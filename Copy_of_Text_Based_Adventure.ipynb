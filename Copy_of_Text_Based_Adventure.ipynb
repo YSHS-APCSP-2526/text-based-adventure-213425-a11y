{
  "nbformat": 4,
  "nbformat_minor": 0,
  "metadata": {
    "colab": {
      "provenance": [],
      "include_colab_link": true
    },
    "kernelspec": {
      "name": "python3",
      "display_name": "Python 3"
    },
    "language_info": {
      "name": "python"
    }
  },
  "cells": [
    {
      "cell_type": "markdown",
      "metadata": {
        "id": "view-in-github",
        "colab_type": "text"
      },
      "source": [
        "<a href=\"https://colab.research.google.com/github/YSHS-APCSP-2526/text-based-adventure-213425-a11y/blob/main/Copy_of_Text_Based_Adventure.ipynb\" target=\"_parent\"><img src=\"https://colab.research.google.com/assets/colab-badge.svg\" alt=\"Open In Colab\"/></a>"
      ]
    },
    {
      "cell_type": "markdown",
      "source": [
        "#Requirements for text based adventure\n",
        "1. You must have at least 2 different \"paths\" that are at least 4 decisions in length\n",
        "2. Include an element of randomness (from the random library)\n",
        "3. Include a list that is core to the text based adventure\n",
        "4. Include a function that is called within your program that includes a while loop, and a parameter that influences a conditional statement in your function.\n",
        "5. Commented Code.\n",
        "6. A [digital flowchart](https://docs.google.com/document/d/1p2k3wL6gzjYWBuWxwEQptmbbOZZNsQrthlC12SNtYgY/edit?usp=sharing) that follows accepted symbols for representing code. You can use google slides or [draw.io](https://www.drawio.com/) for the flowchart."
      ],
      "metadata": {
        "id": "zpSmche7G_jy"
      }
    },
    {
      "cell_type": "code",
      "source": [
        "def responseValidator(response):\n",
        "  while response !=\"yes\" and response !=\"no\":\n",
        "    response = input(\"ONLY WORDS, yes or no:  \")\n",
        "  return response"
      ],
      "metadata": {
        "id": "PK35TJjvFbNM"
      },
      "execution_count": 2,
      "outputs": []
    },
    {
      "cell_type": "code",
      "source": [
        "def intro():\n",
        "  response1 = input(\"You approach a cave, do you enter? yes or no: \")\n",
        "  response1 = responseValidator(response1)\n",
        "  return response1"
      ],
      "metadata": {
        "id": "3o8WqVpEGbuC"
      },
      "execution_count": 3,
      "outputs": []
    },
    {
      "cell_type": "code",
      "source": [
        "def chioce1_BoringEnding(response):\n",
        "  if response == \"yes\":\n",
        "    print(\"You begin to feel a hint of fear... bats fly out the cave\")\n",
        "  else:\n",
        "    print(\"You kept moving and conuined your normal life, enjoy your life\")"
      ],
      "metadata": {
        "id": "LQuG-KfJlMj3"
      },
      "execution_count": 4,
      "outputs": []
    },
    {
      "cell_type": "code",
      "source": [
        "def main():\n",
        "  response = intro()\n",
        "  chioce1_BoringEnding(response)"
      ],
      "metadata": {
        "id": "_GfncY5Z8CFF"
      },
      "execution_count": 5,
      "outputs": []
    },
    {
      "cell_type": "code",
      "source": [
        "main()"
      ],
      "metadata": {
        "colab": {
          "base_uri": "https://localhost:8080/"
        },
        "id": "ky2GrAGj6hGw",
        "outputId": "52582c4e-05fd-4ead-e3b4-ba79fc677bd9"
      },
      "execution_count": 6,
      "outputs": [
        {
          "output_type": "stream",
          "name": "stdout",
          "text": [
            "You approach a cave, do you enter? yes or no: yes\n",
            "You begin to feel a hint of fear... bats fly out the cave\n"
          ]
        }
      ]
    },
    {
      "cell_type": "code",
      "source": [
        "def intro2():\n",
        "  response2 = input(\"you found a wicked blade, you pick it up ... you saw a portal do you enter? yes or no:  \")\n",
        "  response1 = responseValidator(response2)\n",
        "  return response1"
      ],
      "metadata": {
        "id": "ySgx-xf6-4Td"
      },
      "execution_count": 7,
      "outputs": []
    },
    {
      "cell_type": "code",
      "source": [
        "def chioce2(response2):\n",
        "  if response2 == \"yes\":\n",
        "    print(\"you jumped into a the priate like world\")\n",
        "  else:\n",
        "    print(\"A boulder forced you to jump in or you would have died\")"
      ],
      "metadata": {
        "id": "PG83xdd8BoBS"
      },
      "execution_count": 8,
      "outputs": []
    },
    {
      "cell_type": "code",
      "source": [
        "def main2():\n",
        "  response2 = intro2()\n",
        "  chioce2(response2)"
      ],
      "metadata": {
        "id": "dIvhmTRpIZEW"
      },
      "execution_count": 9,
      "outputs": []
    },
    {
      "cell_type": "code",
      "source": [
        "main2()"
      ],
      "metadata": {
        "colab": {
          "base_uri": "https://localhost:8080/"
        },
        "id": "x_VwqSs7IfdQ",
        "outputId": "9c516f66-82dd-4f06-d2b6-c8f99a5fcd80"
      },
      "execution_count": 10,
      "outputs": [
        {
          "output_type": "stream",
          "name": "stdout",
          "text": [
            "you found a wicked blade, you pick it up ... you saw a portal do you enter? yes or no:  yes\n",
            "you jumped into the the world [One Piece]\n"
          ]
        }
      ]
    },
    {
      "cell_type": "code",
      "source": [
        "def responseValidator1(response1):\n",
        "  while response !=\"keep it\" and response !=\"sell it\":\n",
        "    response = input(\"ONLY WORDS, keep it or sell it:  \")\n",
        "  return response"
      ],
      "metadata": {
        "id": "JSME8c9IOv41"
      },
      "execution_count": 20,
      "outputs": []
    },
    {
      "cell_type": "code",
      "source": [
        "def intro3():\n",
        "  response3 = input(\"you crashed landed onto a nearby a village but your landing was slicence from trees ... the blade you have grabed from early turned into a cursed legendary blade do you keep it or sell it to a sword dealer in the nearby village?\")\n",
        "  response1 = responseValidator1(response3)\n",
        "  return response1"
      ],
      "metadata": {
        "id": "un_8jVSCLQSI"
      },
      "execution_count": 22,
      "outputs": []
    },
    {
      "cell_type": "code",
      "source": [
        "def chioce3(response3):\n",
        "  if response3 == \"keep it\":\n",
        "    print(\"You entered the village asking around where were you and \")\n",
        "  if response3 == \"sell it\":\n",
        "    print(\"A boulder forced you to jump in or you would have died\")"
      ],
      "metadata": {
        "id": "XHVGIl2TLi5h"
      },
      "execution_count": 17,
      "outputs": []
    },
    {
      "cell_type": "code",
      "source": [
        "def main3():\n",
        "  response3 = intro3()\n",
        "  chioce3(response3)"
      ],
      "metadata": {
        "id": "rgSjXcHGNufL"
      },
      "execution_count": 18,
      "outputs": []
    },
    {
      "cell_type": "code",
      "source": [
        "main3()"
      ],
      "metadata": {
        "colab": {
          "base_uri": "https://localhost:8080/",
          "height": 307
        },
        "id": "8OZwM8n5N02y",
        "outputId": "1155971a-9ac1-48cd-cc60-9452ab171545"
      },
      "execution_count": 23,
      "outputs": [
        {
          "name": "stdout",
          "output_type": "stream",
          "text": [
            "you crashed landed onto a nearby a village but your landing was slicence from trees ... the blade you have grabed from early turned into a cursed legendary blade do you keep it or sell it to a sword dealer in the nearby village?keep it\n"
          ]
        },
        {
          "output_type": "error",
          "ename": "UnboundLocalError",
          "evalue": "cannot access local variable 'response' where it is not associated with a value",
          "traceback": [
            "\u001b[0;31m---------------------------------------------------------------------------\u001b[0m",
            "\u001b[0;31mUnboundLocalError\u001b[0m                         Traceback (most recent call last)",
            "\u001b[0;32m/tmp/ipython-input-1217121760.py\u001b[0m in \u001b[0;36m<cell line: 0>\u001b[0;34m()\u001b[0m\n\u001b[0;32m----> 1\u001b[0;31m \u001b[0mmain3\u001b[0m\u001b[0;34m(\u001b[0m\u001b[0;34m)\u001b[0m\u001b[0;34m\u001b[0m\u001b[0;34m\u001b[0m\u001b[0m\n\u001b[0m",
            "\u001b[0;32m/tmp/ipython-input-2508795407.py\u001b[0m in \u001b[0;36mmain3\u001b[0;34m()\u001b[0m\n\u001b[1;32m      1\u001b[0m \u001b[0;32mdef\u001b[0m \u001b[0mmain3\u001b[0m\u001b[0;34m(\u001b[0m\u001b[0;34m)\u001b[0m\u001b[0;34m:\u001b[0m\u001b[0;34m\u001b[0m\u001b[0;34m\u001b[0m\u001b[0m\n\u001b[0;32m----> 2\u001b[0;31m   \u001b[0mresponse3\u001b[0m \u001b[0;34m=\u001b[0m \u001b[0mintro3\u001b[0m\u001b[0;34m(\u001b[0m\u001b[0;34m)\u001b[0m\u001b[0;34m\u001b[0m\u001b[0;34m\u001b[0m\u001b[0m\n\u001b[0m\u001b[1;32m      3\u001b[0m   \u001b[0mchioce3\u001b[0m\u001b[0;34m(\u001b[0m\u001b[0mresponse3\u001b[0m\u001b[0;34m)\u001b[0m\u001b[0;34m\u001b[0m\u001b[0;34m\u001b[0m\u001b[0m\n",
            "\u001b[0;32m/tmp/ipython-input-2322885681.py\u001b[0m in \u001b[0;36mintro3\u001b[0;34m()\u001b[0m\n\u001b[1;32m      1\u001b[0m \u001b[0;32mdef\u001b[0m \u001b[0mintro3\u001b[0m\u001b[0;34m(\u001b[0m\u001b[0;34m)\u001b[0m\u001b[0;34m:\u001b[0m\u001b[0;34m\u001b[0m\u001b[0;34m\u001b[0m\u001b[0m\n\u001b[1;32m      2\u001b[0m   \u001b[0mresponse3\u001b[0m \u001b[0;34m=\u001b[0m \u001b[0minput\u001b[0m\u001b[0;34m(\u001b[0m\u001b[0;34m\"you crashed landed onto a nearby a village but your landing was slicence from trees ... the blade you have grabed from early turned into a cursed legendary blade do you keep it or sell it to a sword dealer in the nearby village?\"\u001b[0m\u001b[0;34m)\u001b[0m\u001b[0;34m\u001b[0m\u001b[0;34m\u001b[0m\u001b[0m\n\u001b[0;32m----> 3\u001b[0;31m   \u001b[0mresponse1\u001b[0m \u001b[0;34m=\u001b[0m \u001b[0mresponseValidator1\u001b[0m\u001b[0;34m(\u001b[0m\u001b[0mresponse3\u001b[0m\u001b[0;34m)\u001b[0m\u001b[0;34m\u001b[0m\u001b[0;34m\u001b[0m\u001b[0m\n\u001b[0m\u001b[1;32m      4\u001b[0m   \u001b[0;32mreturn\u001b[0m \u001b[0mresponse1\u001b[0m\u001b[0;34m\u001b[0m\u001b[0;34m\u001b[0m\u001b[0m\n",
            "\u001b[0;32m/tmp/ipython-input-81968573.py\u001b[0m in \u001b[0;36mresponseValidator1\u001b[0;34m(response1)\u001b[0m\n\u001b[1;32m      1\u001b[0m \u001b[0;32mdef\u001b[0m \u001b[0mresponseValidator1\u001b[0m\u001b[0;34m(\u001b[0m\u001b[0mresponse1\u001b[0m\u001b[0;34m)\u001b[0m\u001b[0;34m:\u001b[0m\u001b[0;34m\u001b[0m\u001b[0;34m\u001b[0m\u001b[0m\n\u001b[0;32m----> 2\u001b[0;31m   \u001b[0;32mwhile\u001b[0m \u001b[0mresponse\u001b[0m \u001b[0;34m!=\u001b[0m\u001b[0;34m\"keep it\"\u001b[0m \u001b[0;32mand\u001b[0m \u001b[0mresponse\u001b[0m \u001b[0;34m!=\u001b[0m\u001b[0;34m\"sell it\"\u001b[0m\u001b[0;34m:\u001b[0m\u001b[0;34m\u001b[0m\u001b[0;34m\u001b[0m\u001b[0m\n\u001b[0m\u001b[1;32m      3\u001b[0m     \u001b[0mresponse\u001b[0m \u001b[0;34m=\u001b[0m \u001b[0minput\u001b[0m\u001b[0;34m(\u001b[0m\u001b[0;34m\"ONLY WORDS, keep it or sell it:  \"\u001b[0m\u001b[0;34m)\u001b[0m\u001b[0;34m\u001b[0m\u001b[0;34m\u001b[0m\u001b[0m\n\u001b[1;32m      4\u001b[0m   \u001b[0;32mreturn\u001b[0m \u001b[0mresponse\u001b[0m\u001b[0;34m\u001b[0m\u001b[0;34m\u001b[0m\u001b[0m\n",
            "\u001b[0;31mUnboundLocalError\u001b[0m: cannot access local variable 'response' where it is not associated with a value"
          ]
        }
      ]
    }
  ]
}