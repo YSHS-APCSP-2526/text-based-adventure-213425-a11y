{
  "nbformat": 4,
  "nbformat_minor": 0,
  "metadata": {
    "colab": {
      "provenance": [],
      "include_colab_link": true
    },
    "kernelspec": {
      "name": "python3",
      "display_name": "Python 3"
    },
    "language_info": {
      "name": "python"
    }
  },
  "cells": [
    {
      "cell_type": "markdown",
      "metadata": {
        "id": "view-in-github",
        "colab_type": "text"
      },
      "source": [
        "<a href=\"https://colab.research.google.com/github/YSHS-APCSP-2526/text-based-adventure-213425-a11y/blob/main/Copy_of_Text_Based_Adventure.ipynb\" target=\"_parent\"><img src=\"https://colab.research.google.com/assets/colab-badge.svg\" alt=\"Open In Colab\"/></a>"
      ]
    },
    {
      "cell_type": "markdown",
      "source": [
        "#Requirements for text based adventure\n",
        "1. You must have at least 2 different \"paths\" that are at least 4 decisions in length\n",
        "2. Include an element of randomness (from the random library)\n",
        "3. Include a list that is core to the text based adventure\n",
        "4. Include a function that is called within your program that includes a while loop, and a parameter that influences a conditional statement in your function.\n",
        "5. Commented Code.\n",
        "6. A [digital flowchart](https://docs.google.com/document/d/1p2k3wL6gzjYWBuWxwEQptmbbOZZNsQrthlC12SNtYgY/edit?usp=sharing) that follows accepted symbols for representing code. You can use google slides or [draw.io](https://www.drawio.com/) for the flowchart."
      ],
      "metadata": {
        "id": "zpSmche7G_jy"
      }
    },
    {
      "cell_type": "code",
      "source": [
        "def responseValidator(response):\n",
        "  while response !=\"yes\" and response !=\"no\":\n",
        "    response = input(\"ONLY WORDS, yes or no:  \")\n",
        "  return response"
      ],
      "metadata": {
        "id": "PK35TJjvFbNM"
      },
      "execution_count": 17,
      "outputs": []
    },
    {
      "cell_type": "code",
      "source": [
        "def intro():\n",
        "  response1 = input(\"You approach a cave, do you enter? yes or no: \")\n",
        "  response1 = responseValidator(response1)\n",
        "  return response1"
      ],
      "metadata": {
        "id": "3o8WqVpEGbuC"
      },
      "execution_count": 44,
      "outputs": []
    },
    {
      "cell_type": "code",
      "source": [
        "def chioce1_BoringEnding(response):\n",
        "  if response == \"yes\":\n",
        "    print(\"You begin to feel a hint of fear... bats fly out the cave\")\n",
        "  else:\n",
        "    print(\"You kept moving and conuined your normal life, enjoy your life\")"
      ],
      "metadata": {
        "id": "LQuG-KfJlMj3"
      },
      "execution_count": 43,
      "outputs": []
    },
    {
      "cell_type": "code",
      "source": [
        "def main():\n",
        "  response = intro()\n",
        "  chioce1_BoringEnding(response)"
      ],
      "metadata": {
        "id": "_GfncY5Z8CFF"
      },
      "execution_count": 42,
      "outputs": []
    },
    {
      "cell_type": "code",
      "source": [
        "main()"
      ],
      "metadata": {
        "colab": {
          "base_uri": "https://localhost:8080/"
        },
        "id": "ky2GrAGj6hGw",
        "outputId": "f5b00000-1045-483e-f887-947fc2e58b9f"
      },
      "execution_count": 45,
      "outputs": [
        {
          "output_type": "stream",
          "name": "stdout",
          "text": [
            "You approach a cave, do you enter? yes or no: no\n",
            "You kept moving and conuined your normal life, enjoy your life\n"
          ]
        }
      ]
    },
    {
      "cell_type": "code",
      "source": [
        "def intro2():\n",
        "  response2 = input(\"you found a wicked blade, you pick it up ... you saw a portal do you enter? yes or no:  \")\n",
        "  response1 = responseValidator(response2)\n",
        "  return response1"
      ],
      "metadata": {
        "id": "ySgx-xf6-4Td"
      },
      "execution_count": 53,
      "outputs": []
    },
    {
      "cell_type": "code",
      "source": [
        "def chioce2(response2):\n",
        "  if response2 == \"yes\":\n",
        "    print(\"you jumped into the the world [One Piece]\")\n",
        "  else:\n",
        "    print(\"A boulder forced you to jump in or you would have died\")"
      ],
      "metadata": {
        "id": "PG83xdd8BoBS"
      },
      "execution_count": 54,
      "outputs": []
    },
    {
      "cell_type": "code",
      "source": [
        "def main2():\n",
        "  response2 = intro2()\n",
        "  chioce2(response2)"
      ],
      "metadata": {
        "id": "dIvhmTRpIZEW"
      },
      "execution_count": 55,
      "outputs": []
    },
    {
      "cell_type": "code",
      "source": [
        "main2()"
      ],
      "metadata": {
        "colab": {
          "base_uri": "https://localhost:8080/"
        },
        "id": "x_VwqSs7IfdQ",
        "outputId": "8fcbd850-4872-4c05-9ee2-a4beb50f79c9"
      },
      "execution_count": 56,
      "outputs": [
        {
          "output_type": "stream",
          "name": "stdout",
          "text": [
            "you found a wicked blade, you pick it up ... you saw a portal do you enter? yes or no:  ufew\n",
            "ONLY WORDS, yes or no:  yes\n",
            "you jumped into the the world [One Piece]\n"
          ]
        }
      ]
    },
    {
      "cell_type": "code",
      "source": [],
      "metadata": {
        "id": "un_8jVSCLQSI"
      },
      "execution_count": null,
      "outputs": []
    }
  ]
}